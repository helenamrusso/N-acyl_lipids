{
 "cells": [
  {
   "cell_type": "code",
   "execution_count": 2,
   "metadata": {},
   "outputs": [],
   "source": [
    "import pandas as pd\n",
    "import numpy as np"
   ]
  },
  {
   "cell_type": "code",
   "execution_count": 3,
   "metadata": {},
   "outputs": [],
   "source": [
    "#Import human, rodent, mirobes, foods and plant-related datasets after all the 0.7 cosine filters\n",
    "humans = pd.read_csv('/.../humans_all_heads_matches_cos07_ReDU_unfiltered07.tsv', sep='\\t')\n",
    "rodents = pd.read_csv('/.../rodents_all_heads_matches_cos07_ReDU_unfiltered07.tsv', sep='\\t')\n",
    "microbes = pd.read_csv('/.../all_heads_plants_after_all_filters.tsv', sep='\\t')\n",
    "foods = pd.read_csv('/.../all_heads_foods_after_all_filters.tsv', sep='\\t')\n",
    "plants = pd.read_csv('/.../all_heads_foods_after_all_filters.tsv', sep='\\t')\n"
   ]
  },
  {
   "cell_type": "code",
   "execution_count": 4,
   "metadata": {},
   "outputs": [],
   "source": [
    "#just keep the compounds column\n",
    "humans = humans[['group_annotation']]\n",
    "rodents = rodents[['group_annotation']]\n",
    "microbes = microbes[['group_annotation']]\n",
    "foods = foods[['group_annotation']]\n",
    "plants = plants[['group_annotation']]\n",
    "\n",
    "# Loop over each DataFrame to split the head and the chain length\n",
    "dataframes = [humans, rodents, microbes, foods, plants]\n",
    "for df in dataframes:\n",
    "    df['annotation'] = df['group_annotation'].apply(lambda x: x.split('-')[-1])\n",
    "    df['Head'] = df['group_annotation'].apply(lambda x: '-'.join(x.split('-')[:-1]))"
   ]
  },
  {
   "cell_type": "code",
   "execution_count": 6,
   "metadata": {},
   "outputs": [],
   "source": [
    "#split dataframes into short, medium, long and very long chain\n",
    "humans_short = humans[humans['annotation'].str.startswith(('C2:','C3:', 'C4:', 'C5:', 'C6:'))]\n",
    "rodents_short = rodents[rodents['annotation'].str.startswith(('C2:','C3:', 'C4:', 'C5:', 'C6:'))]\n",
    "microbes_short = microbes[microbes['annotation'].str.startswith(('C2:','C3:', 'C4:', 'C5:', 'C6:'))]\n",
    "foods_short = foods[foods['annotation'].str.startswith(('C2:','C3:', 'C4:', 'C5:', 'C6:'))]\n",
    "plants_short = plants[plants['annotation'].str.startswith(('C2:','C3:', 'C4:', 'C5:', 'C6:'))]\n",
    "\n",
    "humans_medium = humans[humans['annotation'].str.startswith(('C7:','C8:', 'C9:', 'C10:', 'C11:', 'C12:'))]\n",
    "rodents_medium = rodents[rodents['annotation'].str.startswith(('C7:','C8:', 'C9:', 'C10:', 'C11:', 'C12:'))]\n",
    "microbes_medium = microbes[microbes['annotation'].str.startswith(('C7:','C8:', 'C9:', 'C10:', 'C11:', 'C12:'))]\n",
    "foods_medium = foods[foods['annotation'].str.startswith(('C7:','C8:', 'C9:', 'C10:', 'C11:', 'C12:'))]\n",
    "plants_medium = plants[plants['annotation'].str.startswith(('C7:','C8:', 'C9:', 'C10:', 'C11:', 'C12:'))]\n",
    "\n",
    "humans_long = humans[humans['annotation'].str.startswith(('C13:','C14:', 'C15:', 'C16:', 'C17:', 'C18:', 'C19:', 'C20:', 'C21:'))]\n",
    "rodents_long = rodents[rodents['annotation'].str.startswith(('C13:','C14:', 'C15:', 'C16:', 'C17:', 'C18:', 'C19:', 'C20:', 'C21:'))]\n",
    "microbes_long = microbes[microbes['annotation'].str.startswith(('C13:','C14:', 'C15:', 'C16:', 'C17:', 'C18:', 'C19:', 'C20:', 'C21:'))]\n",
    "foods_long = foods[foods['annotation'].str.startswith(('C13:','C14:', 'C15:', 'C16:', 'C17:', 'C18:', 'C19:', 'C20:', 'C21:'))]\n",
    "plants_long = plants[plants['annotation'].str.startswith(('C13:','C14:', 'C15:', 'C16:', 'C17:', 'C18:', 'C19:', 'C20:', 'C21:'))]\n",
    "\n",
    "humans_verylong = humans[humans['annotation'].str.startswith(('C22:','C23:', 'C24:', 'C25:', 'C26:', 'C27:', 'C28:', 'C29:', 'C30:'))]\n",
    "rodents_verylong = rodents[rodents['annotation'].str.startswith(('C22:','C23:', 'C24:', 'C25:', 'C26:', 'C27:', 'C28:', 'C29:', 'C30:'))]\n",
    "microbes_verylong = microbes[microbes['annotation'].str.startswith(('C22:','C23:', 'C24:', 'C25:', 'C26:', 'C27:', 'C28:', 'C29:', 'C30:'))]\n",
    "foods_verylong = foods[foods['annotation'].str.startswith(('C22:','C23:', 'C24:', 'C25:', 'C26:', 'C27:', 'C28:', 'C29:', 'C30:'))]\n",
    "plants_verylong = plants[plants['annotation'].str.startswith(('C22:','C23:', 'C24:', 'C25:', 'C26:', 'C27:', 'C28:', 'C29:', 'C30:'))]\n",
    "\n",
    "#get all the lists\n",
    "humans_short_list = humans_short['group_annotation'].unique().tolist()\n",
    "rodents_short_list = rodents_short['group_annotation'].unique().tolist()\n",
    "microbes_short_list = microbes_short['group_annotation'].unique().tolist()\n",
    "foods_short_list = foods_short['group_annotation'].unique().tolist()\n",
    "plants_short_list = plants_short['group_annotation'].unique().tolist()\n",
    "\n",
    "humans_medium_list = humans_medium['group_annotation'].unique().tolist()\n",
    "rodents_medium_list = rodents_medium['group_annotation'].unique().tolist()\n",
    "microbes_medium_list = microbes_medium['group_annotation'].unique().tolist()\n",
    "foods_medium_list = foods_medium['group_annotation'].unique().tolist()\n",
    "plants_medium_list = plants_medium['group_annotation'].unique().tolist()\n",
    "\n",
    "humans_long_list = humans_long['group_annotation'].unique().tolist()\n",
    "rodents_long_list = rodents_long['group_annotation'].unique().tolist()\n",
    "microbes_long_list = microbes_long['group_annotation'].unique().tolist()\n",
    "foods_long_list = foods_long['group_annotation'].unique().tolist()\n",
    "plants_long_list = plants_long['group_annotation'].unique().tolist()\n",
    "\n",
    "humans_verylong_list = humans_verylong['group_annotation'].unique().tolist()\n",
    "rodents_verylong_list = rodents_verylong['group_annotation'].unique().tolist()\n",
    "microbes_verylong_list = microbes_verylong['group_annotation'].unique().tolist()\n",
    "foods_verylong_list = foods_verylong['group_annotation'].unique().tolist()\n",
    "plants_verylong_list = plants_verylong['group_annotation'].unique().tolist()\n"
   ]
  },
  {
   "cell_type": "markdown",
   "metadata": {},
   "source": [
    "# Short"
   ]
  },
  {
   "cell_type": "code",
   "execution_count": 7,
   "metadata": {},
   "outputs": [
    {
     "name": "stdout",
     "output_type": "stream",
     "text": [
      "Humans = c('Tyrosine-C2:0', 'Tyrosine-C3:0', 'Tyrosine-C4:0', 'Tyrosine-C5:0', 'Tyrosine-C6:0', 'Arginine-C5:0', 'Arginine-C2:0', 'Arginine-C6:0', 'Leucine-C5:0', 'Leucine-C4:0', 'Leucine-C6:0', 'Leucine-C3:0', '2-phenethylamine-C2:0', '2-phenethylamine-C5:0', 'N-acetylcadaverine-C2:0', 'N-acetylcadaverine-C4:0', 'N-acetylcadaverine-C3:0', 'Alanine/Sarcosine-C4:0', 'Alanine/Sarcosine-C5:0', 'Alanine/Sarcosine-C6:0', 'Valine-C2:0', 'Valine-C3:0', 'Amylamine-C6:0', 'Amylamine-C5:0', 'Amylamine-C2:0', 'Tyramine-C2:0', 'Tyramine-C4:0', 'Tyramine-C3:0', 'Tyramine-C6:0', 'Glutamic acid-C2:0',\n",
      "'Glutamic acid-C4:0', 'Glutamic acid-C3:0', 'Glutamic acid-C6:0', 'Glutamic acid-C6:1', 'N-acetylputrescine-C2:0', 'N-acetylputrescine-C4:1', 'N-acetylputrescine-C4:0', 'N-acetylornithine-C2:0', 'N-acetylornithine-C4:0', 'Threonine/homoserine-C4:0', 'Threonine/homoserine-C2:0', 'Threonine/homoserine-C3:0', 'Threonine/homoserine-C6:0', 'GABA-C4:0', 'GABA-C5:0', 'GABA-C6:0', 'Aspartic acid-C2:0', 'Aspartic acid-C6:0', 'Tryptophan-C3:0', 'Tryptophan-C6:0', 'Tryptophan-C4:0', 'Tryptophan-C5:0', 'Phenylalanine-C3:0', 'Phenylalanine-C2:0', 'Phenylalanine-C4:0', 'Phenylalanine-C6:0', 'Phenylalanine-C5:0', 'Spermidine-C2:0', 'Spermidine-C4:0', 'Spermidine-C3:0',\n",
      "'Kynurenine-C2:0', 'Tryptamine-C2:0', 'Putrescine-C5:0', 'Putrescine-C6:0', 'Putrescine-C2:0', 'Putrescine-C4:0', 'Histamine-C2:0', 'Histamine-C3:0', 'Histamine-C5:0', 'Histamine-C4:0', 'Histamine-C6:0', 'Cadaverine-C5:1', 'Cadaverine-C2:0', 'Cadaverine-C3:0', 'Cadaverine-C4:0', 'Cadaverine-C4:1', 'Cadaverine-C5:0', 'Cadaverine-C5:2', 'Cadaverine-C6:0', '5-methoxytryptamine-C2:0', 'Histidine-C6:0', 'Histidine-C5:0', 'Histidine-C2:0', 'Histidine-C4:0', 'Histidine-C6:1', 'L-DOPA-C2:0', 'Glutamine-C5:0', 'Glutamine-C6:0', 'Glutamine-C6:1', 'Glutamine-C6:2',\n",
      "'Serotonin-C2:0', 'Cystathionine-C6:0', 'Cystathionine-C5:0', '3-methylhistidine-C2:0', 'Glycine-C6:0', 'Glycine-C4:0', 'Glycine-C5:1', 'Lysine-C4:0', 'Lysine-C5:0', 'Lysine-C2:0', 'Aminoadipic acid-C2:0', 'Methionine-C4:0', 'Methionine-C2:0', 'Methionine-C6:0', 'Methionine-C5:0', 'Methionine-C3:0', 'Citrulline-C5:0', '2-aminovaleric acid-C2:0', '2-aminovaleric acid-C3:0', '2-aminovaleric acid-C5:0'),\n",
      "Rodents = c('Tyrosine-C2:0', 'Tyrosine-C4:0', 'Tyrosine-C5:0', 'Arginine-C5:0', 'Arginine-C2:0', 'Arginine-C6:0', 'Leucine-C5:0', 'Leucine-C4:0', 'Leucine-C6:0', 'N-acetylcadaverine-C2:0', 'N-acetylcadaverine-C3:0', 'Alanine/Sarcosine-C4:0', 'Alanine/Sarcosine-C6:0', 'Valine-C2:0', 'Valine-C5:1', 'Amylamine-C6:0', 'Amylamine-C5:0', 'Amylamine-C4:0', 'Tyramine-C2:0', 'Tyramine-C6:0', 'Glutamic acid-C2:0', 'Glutamic acid-C4:0', 'Glutamic acid-C3:0', 'Glutamic acid-C6:0', 'N-acetylputrescine-C2:0', 'N-acetylornithine-C2:0', 'N-acetylornithine-C4:0', 'Threonine/homoserine-C2:0', 'Threonine/homoserine-C3:0', 'Aspartic acid-C2:0',\n",
      "'Tryptophan-C4:0', 'Tryptophan-C5:0', 'Phenylalanine-C2:0', 'Phenylalanine-C3:0', 'Phenylalanine-C6:0', 'Phenylalanine-C4:0', 'Phenylalanine-C5:0', 'Spermidine-C2:0', 'Spermidine-C4:0', 'Spermidine-C3:0', 'Kynurenine-C2:0', 'Putrescine-C5:0', 'Putrescine-C4:0', 'Putrescine-C6:0', 'Putrescine-C2:0', 'Histamine-C2:0', 'Histamine-C3:0', 'Histamine-C5:0', 'Cadaverine-C5:1', 'Cadaverine-C2:0', 'Cadaverine-C4:0', 'Cadaverine-C5:0', 'Cadaverine-C6:0', 'Cadaverine-C3:0', 'Histidine-C2:0', 'Histidine-C5:0', 'Histidine-C4:0', 'Histidine-C6:0', 'Glutamine-C5:0', 'Glutamine-C6:0',\n",
      "'Serotonin-C2:0', '3-hydroxykynurenine-C2:0', '3-methylhistidine-C2:0', 'Glycine-C4:0', 'Glycine-C6:0', 'Glycine-C5:1', 'Lysine-C4:0', 'Lysine-C5:0', 'Lysine-C2:0', 'Aminoadipic acid-C2:0', 'Methionine-C4:0', 'Methionine-C2:0', 'Methionine-C6:0', '2-aminovaleric acid-C2:0', '2-aminovaleric acid-C5:0'),\n",
      "Microbes = c('Tyrosine-C2:0', 'Tyrosine-C6:0', 'Tyrosine-C4:0', 'Arginine-C2:0', 'Arginine-C5:0', '2-phenethylamine-C2:0', '2-phenethylamine-C6:0', 'N-acetylcadaverine-C2:0', 'Valine-C2:0', 'Amylamine-C6:0', 'Tyramine-C2:0', 'Tyramine-C6:1', 'Tyramine-C6:0', 'Tyramine-C4:0', 'Glutamic acid-C2:0', 'Glutamic acid-C6:0', 'N-acetylputrescine-C2:0', 'Threonine/homoserine-C2:0', '5-aminovaleric acid-C2:0', 'GABA-C6:0', 'Serine-C2:0', 'Aspartic acid-C2:0', 'Aspartic acid-C6:0', 'Phenylalanine-C2:0', 'Phenylalanine-C6:0', 'Spermidine-C2:0', 'Histamine-C6:0', 'Cadaverine-C2:0', 'Glutamine-C6:0', 'Serotonin-C2:0',\n",
      "'Glycine-C5:1', 'Aminoadipic acid-C2:0', '3-methoxytyramine-C2:0'),\n",
      "Foods = c('Tyrosine-C2:0', 'Tyrosine-C4:0', 'Tyrosine-C6:0', 'Arginine-C5:0', 'Arginine-C6:0', 'Leucine-C4:0', 'Leucine-C5:0', 'Leucine-C6:0', '2-phenethylamine-C2:0', '2-phenethylamine-C6:0', 'Tyramine-C2:0', 'Tryptophan-C3:0', 'Tryptophan-C4:1', 'Tryptophan-C4:0', 'Phenylalanine-C2:0', 'Phenylalanine-C5:0', 'Phenylalanine-C4:0', 'Phenylalanine-C6:0', 'Phenylalanine-C3:0', 'Histamine-C6:0', 'Histidine-C6:0', 'Histidine-C4:0', 'Histidine-C2:0', 'Glutamine-C6:0', 'Serotonin-C2:0', 'Lysine-C2:0', 'Lysine-C4:0', '3-methoxytyramine-C2:0', 'Methionine-C3:0', 'Methionine-C6:0',\n",
      "'Methionine-C2:0', 'Methionine-C5:0', 'Methionine-C4:0'),\n",
      "Plants = c('Tyrosine-C2:0', 'Tyrosine-C4:0', 'Tyrosine-C6:0', 'Arginine-C5:0', 'Arginine-C6:0', 'Leucine-C4:0', 'Leucine-C5:0', 'Leucine-C6:0', '2-phenethylamine-C2:0', '2-phenethylamine-C6:0', 'Tyramine-C2:0', 'Tryptophan-C3:0', 'Tryptophan-C4:1', 'Tryptophan-C4:0', 'Phenylalanine-C2:0', 'Phenylalanine-C5:0', 'Phenylalanine-C4:0', 'Phenylalanine-C6:0', 'Phenylalanine-C3:0', 'Histamine-C6:0', 'Histidine-C6:0', 'Histidine-C4:0', 'Histidine-C2:0', 'Glutamine-C6:0', 'Serotonin-C2:0', 'Lysine-C2:0', 'Lysine-C4:0', '3-methoxytyramine-C2:0', 'Methionine-C3:0', 'Methionine-C6:0',\n",
      "'Methionine-C2:0', 'Methionine-C5:0', 'Methionine-C4:0')\n"
     ]
    }
   ],
   "source": [
    "def format_list(name, data_list, values_per_line=30):\n",
    "    formatted_list = \"\"\n",
    "    for i in range(0, len(data_list), values_per_line):\n",
    "        chunk = data_list[i:i+values_per_line]\n",
    "        formatted_chunk = \", \".join(f\"'{item}'\" for item in chunk)\n",
    "        formatted_list += formatted_chunk + \",\\n\" if i + values_per_line < len(data_list) else formatted_chunk\n",
    "    return f\"{name} = c({formatted_list})\"\n",
    "\n",
    "# Create the output strings for each list with line breaks every 30 values\n",
    "humans_output = format_list('Humans', humans_short_list)\n",
    "rodents_output = format_list('Rodents', rodents_short_list)\n",
    "microbes_output = format_list('Microbes', microbes_short_list)\n",
    "foods_output = format_list('Foods', foods_short_list)\n",
    "plants_output = format_list('Plants', plants_short_list)\n",
    "\n",
    "# Combine all outputs into the final format\n",
    "formatted_output = f\"{humans_output},\\n{rodents_output},\\n{microbes_output},\\n{foods_output},\\n{plants_output}\"\n",
    "\n",
    "# Print the formatted outputs\n",
    "print(formatted_output)"
   ]
  },
  {
   "cell_type": "code",
   "execution_count": null,
   "metadata": {},
   "outputs": [],
   "source": [
    "#copy everything that was printed above and paste in R to create the list."
   ]
  },
  {
   "cell_type": "markdown",
   "metadata": {},
   "source": [
    "# Medium"
   ]
  },
  {
   "cell_type": "code",
   "execution_count": 8,
   "metadata": {},
   "outputs": [
    {
     "name": "stdout",
     "output_type": "stream",
     "text": [
      "Humans = c('Tyrosine-C12:0', 'Tyrosine-C10:2', 'Tyrosine-C10:0', 'Tyrosine-C8:0', 'Tyrosine-C9:4', 'Arginine-C10:0', 'Arginine-C8:0', 'Arginine-C12:0', 'Arginine-C9:4', 'Leucine-C9:0', 'Leucine-C8:0', 'Leucine-C12:0', 'Leucine-C10:0', 'Leucine-C10:1', 'Leucine-C7:0', 'Leucine-C12:2', 'Leucine-C8:1', 'Leucine-C12:1', 'Leucine-C9:4', 'Leucine-C10:2', 'Alanine/Sarcosine-C12:0', 'Alanine/Sarcosine-C10:0', 'Alanine/Sarcosine-C8:0', 'Alanine/Sarcosine-C8:1', 'Alanine/Sarcosine-C11:0', 'Alanine/Sarcosine-C12:2', 'Valine-C10:0', 'Amylamine-C7:0', 'Tyramine-C9:4', 'Tyramine-C12:0',\n",
      "'Tyramine-C8:0', 'Tyramine-C8:3', 'Tyramine-C10:4', 'Tyramine-C10:1', 'Tyramine-C10:0', 'Glutamic acid-C12:0', 'Glutamic acid-C11:1', 'Glutamic acid-C10:0', 'Glutamic acid-C8:0', 'Threonine/homoserine-C10:0', 'Threonine/homoserine-C8:0', 'Threonine/homoserine-C7:0', 'Threonine/homoserine-C12:0', 'Taurine-C12:0', 'Taurine-C10:0', 'GABA-C12:0', 'GABA-C10:0', 'GABA-C8:0', 'Serine-C8:0', 'Serine-C10:0', 'Serine-C12:0', 'Tryptophan-C10:0', 'Tryptophan-C12:0', 'Tryptophan-C8:0', 'Phenylalanine-C7:0', 'Phenylalanine-C10:0', 'Phenylalanine-C8:0', 'Phenylalanine-C12:0', 'Phenylalanine-C12:1', 'Phenylalanine-C12:2',\n",
      "'Phenylalanine-C9:4', 'Tryptamine-C11:4', 'Tryptamine-C12:0', 'Putrescine-C8:0', 'Putrescine-C10:0', 'Histamine-C12:0', 'Cadaverine-C8:0', 'Cadaverine-C10:0', 'Cadaverine-C7:0', 'Cadaverine-C12:0', 'Asparagine-C11:0', 'Asparagine-C12:0', 'Histidine-C8:0', 'Histidine-C10:0', 'Histidine-C8:1', 'Histidine-C12:0', 'Glutamine-C8:2', 'Glutamine-C12:0', 'Glutamine-C9:2', 'Glutamine-C7:0', 'Glutamine-C11:1', 'Glutamine-C10:2', 'Glutamine-C12:1', 'Glutamine-C10:3', 'Glutamine-C7:1', 'Glutamine-C10:1', 'Glutamine-C7:2', 'Glutamine-C10:0', 'Glutamine-C9:1', 'Glutamine-C9:0',\n",
      "'Glutamine-C11:2', 'Glutamine-C8:1', 'Glycine-C7:1', 'Glycine-C8:0', 'Lysine-C10:0', 'Lysine-C8:0', 'Lysine-C12:0', 'Lysine-C7:0', 'Lysine-C12:2', 'Lysine-C11:0', 'Methionine-C10:0', 'Methionine-C12:0', 'Methionine-C9:4', 'Methionine-C8:0', 'Citrulline-C12:0', 'Citrulline-C10:0'),\n",
      "Rodents = c('Arginine-C10:0', 'Arginine-C12:4', 'Arginine-C9:4', 'Leucine-C9:4', '2-phenethylamine-C10:2', 'Alanine/Sarcosine-C12:0', 'Tyramine-C10:4', 'Serine-C8:0', 'Glutathione-C10:2', 'Glutathione-C9:1', 'Glutathione-C12:3', 'Tryptophan-C7:0', 'Phenylalanine-C12:0', 'Spermidine-C12:1', 'Tryptamine-C12:2', 'Tryptamine-C10:3', 'Histidine-C10:0', 'Histidine-C8:0', 'Glycine-C7:1', 'Glycine-C12:2', 'Glycine-C8:0', 'Glycine-C8:2', 'Lysine-C10:0', 'Lysine-C8:0', 'Lysine-C12:0', 'Lysine-C7:0'),\n",
      "Microbes = c('Tyrosine-C8:0', 'Tyrosine-C10:0', 'Tyrosine-C10:1', 'Arginine-C12:4', 'Arginine-C10:0', 'Leucine-C8:0', '2-phenethylamine-C10:4', '2-phenethylamine-C10:2', '2-phenethylamine-C8:0', '2-phenethylamine-C10:3', 'Alanine/Sarcosine-C10:0', 'Amylamine-C10:1', 'Amylamine-C9:0', 'Tyramine-C10:2', 'Tyramine-C10:1', 'Glutamic acid-C8:0', 'Threonine/homoserine-C8:0', 'Glutathione-C10:0', 'Glutathione-C7:3', 'Phenylalanine-C8:0', 'Spermidine-C10:2', 'Spermidine-C10:1', 'Histamine-C8:0', 'Histidine-C8:0', 'Histidine-C12:0', 'Histidine-C10:0', 'Glutamine-C10:0', 'Lysine-C10:0', 'Methionine-C8:0'),\n",
      "Foods = c('Tyrosine-C8:0', 'Tyrosine-C12:0', 'Tyrosine-C10:0', 'Tyrosine-C10:1', 'Arginine-C12:4', 'Arginine-C8:0', 'Arginine-C12:0', 'Arginine-C10:0', 'Leucine-C10:0', 'Leucine-C12:0', 'Leucine-C8:0', '2-phenethylamine-C7:0', '2-phenethylamine-C8:0', '2-phenethylamine-C8:1', 'Amylamine-C10:1', 'Tyramine-C10:1', 'GABA-C12:0', 'Glutathione-C10:1', 'Glutathione-C10:0', 'Glutathione-C7:3', 'Tryptophan-C10:0', 'Phenylalanine-C10:0', 'Phenylalanine-C8:0', 'Phenylalanine-C10:1', 'Phenylalanine-C12:0', 'Phenylalanine-C11:4', 'Spermidine-C10:1', 'Histamine-C8:0', 'Histidine-C10:0', 'Histidine-C9:4',\n",
      "'Histidine-C8:0', 'Histidine-C11:2', 'Histidine-C12:0', 'Histidine-C10:1', 'Glutamine-C12:0', 'Glutamine-C10:0', 'Glutamine-C10:3', 'Lysine-C8:0', 'Lysine-C12:0', 'Lysine-C10:0', 'Methionine-C10:0', 'Methionine-C8:0', 'Methionine-C12:0'),\n",
      "Plants = c('Tyrosine-C8:0', 'Tyrosine-C12:0', 'Tyrosine-C10:0', 'Tyrosine-C10:1', 'Arginine-C12:4', 'Arginine-C8:0', 'Arginine-C12:0', 'Arginine-C10:0', 'Leucine-C10:0', 'Leucine-C12:0', 'Leucine-C8:0', '2-phenethylamine-C7:0', '2-phenethylamine-C8:0', '2-phenethylamine-C8:1', 'Amylamine-C10:1', 'Tyramine-C10:1', 'GABA-C12:0', 'Glutathione-C10:1', 'Glutathione-C10:0', 'Glutathione-C7:3', 'Tryptophan-C10:0', 'Phenylalanine-C10:0', 'Phenylalanine-C8:0', 'Phenylalanine-C10:1', 'Phenylalanine-C12:0', 'Phenylalanine-C11:4', 'Spermidine-C10:1', 'Histamine-C8:0', 'Histidine-C10:0', 'Histidine-C9:4',\n",
      "'Histidine-C8:0', 'Histidine-C11:2', 'Histidine-C12:0', 'Histidine-C10:1', 'Glutamine-C12:0', 'Glutamine-C10:0', 'Glutamine-C10:3', 'Lysine-C8:0', 'Lysine-C12:0', 'Lysine-C10:0', 'Methionine-C10:0', 'Methionine-C8:0', 'Methionine-C12:0')\n"
     ]
    }
   ],
   "source": [
    "def format_list(name, data_list, values_per_line=30):\n",
    "    formatted_list = \"\"\n",
    "    for i in range(0, len(data_list), values_per_line):\n",
    "        chunk = data_list[i:i+values_per_line]\n",
    "        formatted_chunk = \", \".join(f\"'{item}'\" for item in chunk)\n",
    "        formatted_list += formatted_chunk + \",\\n\" if i + values_per_line < len(data_list) else formatted_chunk\n",
    "    return f\"{name} = c({formatted_list})\"\n",
    "\n",
    "# Create the output strings for each list with line breaks every 30 values\n",
    "humans_output = format_list('Humans', humans_medium_list)\n",
    "rodents_output = format_list('Rodents', rodents_medium_list)\n",
    "microbes_output = format_list('Microbes', microbes_medium_list)\n",
    "foods_output = format_list('Foods', foods_medium_list)\n",
    "plants_output = format_list('Plants', plants_medium_list)\n",
    "\n",
    "# Combine all outputs into the final format\n",
    "formatted_output = f\"{humans_output},\\n{rodents_output},\\n{microbes_output},\\n{foods_output},\\n{plants_output}\"\n",
    "\n",
    "# Print the formatted outputs\n",
    "print(formatted_output)"
   ]
  },
  {
   "cell_type": "code",
   "execution_count": null,
   "metadata": {},
   "outputs": [],
   "source": [
    "#copy everything that was printed above and paste in R to create the list."
   ]
  },
  {
   "cell_type": "markdown",
   "metadata": {},
   "source": [
    "# Long"
   ]
  },
  {
   "cell_type": "code",
   "execution_count": 9,
   "metadata": {},
   "outputs": [
    {
     "name": "stdout",
     "output_type": "stream",
     "text": [
      "Humans = c('Tyrosine-C18:2', 'Tyrosine-C14:0', 'Tyrosine-C18:1', 'Tyrosine-C16:0', 'Tyrosine-C18:0', 'Tyrosine-C18:3', 'Arginine-C14:0', 'Arginine-C18:1', 'Arginine-C16:0', 'Arginine-C18:2', 'Arginine-C18:0', 'Leucine-C15:1', 'Leucine-C16:0', 'Leucine-C18:1', 'Leucine-C18:2', 'Leucine-C14:1', 'Leucine-C20:1', 'Leucine-C17:0', 'Leucine-C16:2', 'Leucine-C18:3', 'Leucine-C20:4', 'Leucine-C20:2', 'Leucine-C14:0', 'Leucine-C15:0', 'Leucine-C16:1', 'Leucine-C18:0', 'Leucine-C17:1', 'Leucine-C20:0', 'Leucine-C20:3', 'Leucine-C19:1',\n",
      "'2-phenethylamine-C16:1', '2-phenethylamine-C18:1', '2-phenethylamine-C14:0', '2-phenethylamine-C16:0', '2-phenethylamine-C20:4', '2-phenethylamine-C15:0', '2-phenethylamine-C18:2', 'N-acetylcadaverine-C18:1', 'Alanine/Sarcosine-C18:2', 'Alanine/Sarcosine-C14:0', 'Alanine/Sarcosine-C18:1', 'Alanine/Sarcosine-C15:0', 'Alanine/Sarcosine-C16:0', 'Alanine/Sarcosine-C18:0', 'Alanine/Sarcosine-C14:3', 'Alanine/Sarcosine-C14:2', 'Valine-C18:0', 'Valine-C18:2', 'Valine-C18:1', 'Valine-C16:0', 'Valine-C15:0', 'Valine-C16:1', 'Valine-C18:3', 'Amylamine-C18:1', 'Amylamine-C16:0', 'Amylamine-C18:0', 'Amylamine-C14:0', 'Amylamine-C18:2', 'Tyramine-C18:1', 'Tyramine-C20:3',\n",
      "'Tyramine-C18:2', 'Tyramine-C16:1', 'Tyramine-C14:0', 'Tyramine-C16:0', 'Tyramine-C18:3', 'Tyramine-C17:0', 'Tyramine-C15:0', 'Tyramine-C18:0', 'Tyramine-C20:2', 'Glutamic acid-C16:1', 'Glutamic acid-C19:1', 'Glutamic acid-C15:1', 'Glutamic acid-C18:1', 'Glutamic acid-C15:0', 'Glutamic acid-C17:0', 'Glutamic acid-C14:0', 'Glutamic acid-C21:0', 'Glutamic acid-C19:2', 'Glutamic acid-C13:0', 'Glutamic acid-C18:0', 'Glutamic acid-C17:1', 'Glutamic acid-C16:0', 'Threonine/homoserine-C18:0', 'Threonine/homoserine-C20:4', 'Threonine/homoserine-C18:2', 'Threonine/homoserine-C16:0', 'Threonine/homoserine-C18:1', 'Threonine/homoserine-C14:0', 'Taurine-C18:2', 'Taurine-C18:1',\n",
      "'Taurine-C16:0', 'GABA-C18:0', 'GABA-C18:2', 'GABA-C18:1', 'GABA-C16:0', 'GABA-C14:0', 'GABA-C19:1', 'Serine-C14:0', 'Serine-C16:0', 'Serine-C18:2', 'Serine-C15:0', 'Serine-C18:1', 'Serine-C16:1', 'Aspartic acid-C16:1', 'Aspartic acid-C18:2', 'Aspartic acid-C18:1', 'Tryptophan-C18:1', 'Tryptophan-C20:4', 'Tryptophan-C16:0', 'Tryptophan-C18:3', 'Tryptophan-C18:0', 'Tryptophan-C18:2', 'Tryptophan-C14:0', 'Phenylalanine-C18:1', 'Phenylalanine-C18:2', 'Phenylalanine-C16:0', 'Phenylalanine-C14:0', 'Phenylalanine-C18:3', 'Phenylalanine-C18:0', 'Phenylalanine-C20:4',\n",
      "'Phenylalanine-C20:3', 'Phenylalanine-C16:1', 'Phenylalanine-C20:1', 'Phenylalanine-C17:0', 'Phenylalanine-C14:1', 'Phenylalanine-C17:1', 'Phenylalanine-C20:2', 'Phenylalanine-C19:1', 'Phenylalanine-C15:0', 'Spermidine-C16:0', 'Tryptamine-C18:1', 'Tryptamine-C17:0', 'Tryptamine-C20:4', 'Tryptamine-C16:0', 'Tryptamine-C16:4', 'Tryptamine-C16:1', 'Tryptamine-C14:0', 'Tryptamine-C15:0', 'Tryptamine-C18:0', 'Tryptamine-C18:2', 'Tryptamine-C21:3', 'Putrescine-C16:1', 'Putrescine-C14:1', 'Putrescine-C16:0', 'Putrescine-C18:2', 'Putrescine-C14:0', 'Putrescine-C15:0', 'Putrescine-C18:1', 'Putrescine-C18:0', 'Histamine-C16:1',\n",
      "'Histamine-C14:0', 'Histamine-C18:1', 'Cadaverine-C18:0', 'Cadaverine-C16:0', 'Cadaverine-C15:0', 'Asparagine-C16:0', 'Asparagine-C18:0', 'Asparagine-C14:0', 'Asparagine-C15:0', 'Asparagine-C14:1', 'Histidine-C16:0', 'Histidine-C18:1', 'Histidine-C15:4', 'Histidine-C18:2', 'Histidine-C18:0', 'Glutamine-C15:0', 'Glutamine-C18:1', 'Glutamine-C15:1', 'Glutamine-C16:0', 'Glutamine-C18:2', 'Glutamine-C16:1', 'Glutamine-C14:1', 'Glutamine-C13:0', 'Glutamine-C14:0', 'Serotonin-C18:1', 'Serotonin-C20:0', 'Glycine-C18:0', 'Glycine-C18:1', 'Glycine-C16:1', 'Glycine-C16:2',\n",
      "'Lysine-C18:1', 'Lysine-C15:0', 'Lysine-C18:2', 'Lysine-C18:0', 'Lysine-C16:0', 'Lysine-C16:1', 'Lysine-C14:0', 'Methionine-C14:0', 'Methionine-C18:2', 'Methionine-C18:1', 'Methionine-C16:0', 'Methionine-C18:0', 'Citrulline-C14:1', 'Citrulline-C16:0', 'Citrulline-C16:1', 'Citrulline-C18:2', 'Citrulline-C18:1', 'Citrulline-C14:0', 'Citrulline-C15:0', '2-aminovaleric acid-C20:4', '2-aminovaleric acid-C18:3', '2-aminovaleric acid-C14:0', '2-aminovaleric acid-C16:0', '2-aminovaleric acid-C18:1', '2-aminovaleric acid-C18:2', '2-aminovaleric acid-C16:1'),\n",
      "Rodents = c('Tyrosine-C20:4', 'Tyrosine-C18:2', 'Tyrosine-C14:0', 'Tyrosine-C18:1', 'Tyrosine-C16:0', 'Tyrosine-C14:1', 'Tyrosine-C15:0', 'Tyrosine-C16:1', 'Tyrosine-C18:0', 'Tyrosine-C20:3', 'Tyrosine-C18:3', 'Arginine-C14:0', 'Arginine-C18:1', 'Arginine-C16:0', 'Arginine-C18:2', 'Arginine-C18:0', 'Arginine-C16:1', 'Arginine-C20:3', 'Arginine-C20:4', 'Arginine-C18:3', 'Arginine-C14:1', 'Leucine-C16:0', 'Leucine-C18:1', 'Leucine-C18:2', 'Leucine-C20:1', 'Leucine-C18:3', 'Leucine-C20:4', 'Leucine-C20:2', 'Leucine-C14:0', 'Leucine-C15:0',\n",
      "'Leucine-C18:0', 'Leucine-C18:4', 'Leucine-C16:1', 'Leucine-C20:3', '2-phenethylamine-C18:1', '2-phenethylamine-C16:0', '2-phenethylamine-C18:2', 'N-acetylcadaverine-C18:1', 'Alanine/Sarcosine-C18:2', 'Alanine/Sarcosine-C14:0', 'Alanine/Sarcosine-C18:1', 'Alanine/Sarcosine-C16:0', 'Alanine/Sarcosine-C15:0', 'Alanine/Sarcosine-C20:0', 'Valine-C18:0', 'Valine-C18:2', 'Valine-C18:1', 'Valine-C16:0', 'Valine-C16:1', 'Amylamine-C18:1', 'Amylamine-C16:0', 'Amylamine-C18:0', 'Amylamine-C16:1', 'Amylamine-C18:2', 'Tyramine-C18:2', 'Tyramine-C16:1', 'Glutamic acid-C18:1', 'Glutamic acid-C18:0', 'Glutamic acid-C16:0', 'Threonine/homoserine-C20:4',\n",
      "'Threonine/homoserine-C18:2', 'Threonine/homoserine-C18:1', 'Taurine-C20:4', 'Taurine-C18:2', 'Taurine-C18:1', 'Taurine-C16:1', 'Taurine-C16:0', 'Taurine-C18:3', 'GABA-C20:4', 'GABA-C18:2', 'Serine-C14:0', 'Serine-C18:0', 'Serine-C16:0', 'Serine-C18:2', 'Serine-C15:0', 'Serine-C18:1', 'Aspartic acid-C18:2', 'Aspartic acid-C18:1', 'Glutathione-C15:4', 'Tryptophan-C18:1', 'Tryptophan-C20:4', 'Tryptophan-C16:0', 'Tryptophan-C18:3', 'Tryptophan-C18:0', 'Tryptophan-C18:2', 'Phenylalanine-C18:1', 'Phenylalanine-C18:2', 'Phenylalanine-C16:0', 'Phenylalanine-C18:3', 'Phenylalanine-C18:0',\n",
      "'Phenylalanine-C20:4', 'Phenylalanine-C20:3', 'Phenylalanine-C16:1', 'Phenylalanine-C20:1', 'Phenylalanine-C17:1', 'Phenylalanine-C20:2', 'Phenylalanine-C19:1', 'Phenylalanine-C15:0', 'Spermidine-C16:1', 'Spermidine-C16:0', 'Spermidine-C18:1', 'Spermidine-C18:2', 'Tryptamine-C19:0', 'Putrescine-C16:0', 'Putrescine-C18:1', 'Cadaverine-C18:0', 'Cadaverine-C16:0', 'Asparagine-C16:0', 'Asparagine-C18:0', 'Asparagine-C14:0', 'Asparagine-C18:2', 'Asparagine-C18:1', 'Asparagine-C15:0', 'Histidine-C16:0', 'Histidine-C20:4', 'Histidine-C18:1', 'Histidine-C16:1', 'Histidine-C18:3', 'Histidine-C18:2', 'Glutamine-C15:0',\n",
      "'Glutamine-C18:1', 'Glutamine-C16:0', 'Glutamine-C18:2', 'Glutamine-C16:1', 'Glycine-C20:4', 'Glycine-C18:1', 'Glycine-C16:1', 'Lysine-C18:3', 'Lysine-C18:1', 'Lysine-C15:0', 'Lysine-C20:4', 'Lysine-C17:0', 'Lysine-C18:2', 'Lysine-C18:0', 'Lysine-C16:0', 'Lysine-C16:1', 'Lysine-C14:0', 'Methionine-C20:4', 'Methionine-C16:1', 'Methionine-C18:2', 'Methionine-C18:1', 'Methionine-C18:3', 'Methionine-C15:0', 'Methionine-C16:0', 'Methionine-C20:3', 'Methionine-C20:0', 'Methionine-C18:0', 'Citrulline-C16:0', 'Citrulline-C16:1', 'Citrulline-C18:2',\n",
      "'Citrulline-C18:1', '2-aminovaleric acid-C20:4', '2-aminovaleric acid-C16:0', '2-aminovaleric acid-C18:1', '2-aminovaleric acid-C18:2'),\n",
      "Microbes = c('Tyrosine-C18:3', 'Arginine-C18:3', 'Arginine-C16:0', 'Arginine-C18:1', 'Leucine-C16:0', 'Leucine-C18:4', 'Leucine-C18:3', 'Leucine-C14:0', 'Leucine-C16:2', '2-phenethylamine-C18:3', '2-phenethylamine-C16:0', '2-phenethylamine-C18:0', '2-phenethylamine-C18:2', 'Alanine/Sarcosine-C15:0', 'Valine-C18:3', 'Valine-C16:0', 'Amylamine-C16:0', 'Amylamine-C18:0', 'Amylamine-C20:0', 'Amylamine-C18:2', 'Amylamine-C16:1', 'Amylamine-C18:1', 'Tyramine-C18:1', 'Tyramine-C18:2', 'Tyramine-C18:0', 'Tyramine-C20:0', 'Tyramine-C18:4', 'Tyramine-C16:1', 'Tyramine-C18:3', 'Glutamic acid-C18:0',\n",
      "'Glutamic acid-C18:1', 'Glutamic acid-C16:0', 'Threonine/homoserine-C18:3', 'Threonine/homoserine-C18:2', 'Threonine/homoserine-C16:0', 'GABA-C18:3', 'GABA-C16:1', 'GABA-C16:0', 'Serine-C16:0', 'Serine-C14:0', 'Aspartic acid-C16:0', 'Aspartic acid-C18:2', 'Tryptophan-C16:0', 'Tryptophan-C18:2', 'Tryptophan-C18:3', 'Phenylalanine-C18:3', 'Putrescine-C16:0', 'Putrescine-C14:0', 'Asparagine-C18:2', 'Asparagine-C18:1', 'Asparagine-C16:0', 'Asparagine-C18:3', 'Histidine-C18:2', 'Glutamine-C18:2', 'Glutamine-C16:0', 'Serotonin-C16:0', 'Serotonin-C20:1', 'Serotonin-C20:0', 'Serotonin-C18:0', 'Serotonin-C21:0',\n",
      "'Serotonin-C18:2', 'Serotonin-C18:1', '3-methoxytyramine-C20:0', '2-aminovaleric acid-C18:3', '2-aminovaleric acid-C16:0'),\n",
      "Foods = c('Tyrosine-C18:1', 'Tyrosine-C16:0', 'Tyrosine-C18:2', 'Tyrosine-C20:4', 'Tyrosine-C14:1', 'Tyrosine-C14:0', 'Tyrosine-C16:1', 'Tyrosine-C18:3', 'Arginine-C18:1', 'Arginine-C18:2', 'Arginine-C18:3', 'Arginine-C16:0', 'Arginine-C16:1', 'Arginine-C20:4', 'Leucine-C18:1', 'Leucine-C16:0', 'Leucine-C18:2', 'Leucine-C18:3', 'Leucine-C16:1', 'Leucine-C18:0', 'Leucine-C15:0', 'Leucine-C14:1', 'Leucine-C14:0', 'Leucine-C20:4', '2-phenethylamine-C18:1', '2-phenethylamine-C16:0', '2-phenethylamine-C18:0', '2-phenethylamine-C16:1', '2-phenethylamine-C18:2', '2-phenethylamine-C20:0',\n",
      "'Valine-C16:0', 'Valine-C18:1', 'Valine-C18:2', 'Valine-C18:3', 'Amylamine-C18:2', 'Amylamine-C18:0', 'Amylamine-C16:0', 'Amylamine-C20:0', 'Amylamine-C18:1', 'Amylamine-C16:1', 'Tyramine-C18:2', 'Tyramine-C18:1', 'Tyramine-C16:1', 'Tyramine-C16:0', 'Tyramine-C18:4', 'Tyramine-C18:0', 'Taurine-C14:1', 'Taurine-C18:1', 'Taurine-C16:0', 'Taurine-C16:1', 'Taurine-C20:4', 'Taurine-C18:2', 'Taurine-C18:3', 'GABA-C18:3', 'GABA-C18:2', 'GABA-C18:1', 'GABA-C18:0', 'Serine-C18:2', 'Serine-C16:0', 'Tryptophan-C18:1',\n",
      "'Tryptophan-C16:0', 'Tryptophan-C18:2', 'Tryptophan-C18:3', 'Tryptophan-C14:4', 'Phenylalanine-C16:0', 'Phenylalanine-C18:1', 'Phenylalanine-C16:1', 'Phenylalanine-C18:2', 'Phenylalanine-C18:3', 'Phenylalanine-C18:0', 'Phenylalanine-C14:1', 'Phenylalanine-C20:4', 'Tryptamine-C21:0', 'Tryptamine-C18:1', 'Putrescine-C16:0', 'Putrescine-C18:1', 'Putrescine-C18:2', 'Cadaverine-C16:0', 'Asparagine-C16:0', 'Asparagine-C18:2', 'Asparagine-C18:1', 'Asparagine-C18:3', 'Histidine-C16:0', 'Histidine-C18:2', 'Histidine-C18:1', 'Histidine-C20:4', 'Histidine-C14:0', 'Glutamine-C16:0', 'Glutamine-C18:2', 'Glutamine-C18:1',\n",
      "'Serotonin-C20:0', 'Serotonin-C18:0', 'Serotonin-C20:1', 'Serotonin-C18:2', 'Serotonin-C18:1', 'Serotonin-C16:0', 'Serotonin-C21:0', 'Glycine-C18:1', 'Glycine-C16:1', 'Lysine-C18:2', 'Lysine-C16:1', 'Lysine-C18:1', 'Lysine-C14:1', 'Lysine-C14:0', 'Lysine-C16:0', 'Lysine-C18:3', 'Lysine-C20:4', '3-methoxytyramine-C20:0', 'Methionine-C18:3', 'Methionine-C16:1', 'Methionine-C18:2', 'Methionine-C16:0', 'Methionine-C20:4', 'Methionine-C14:1', 'Methionine-C18:1', 'Methionine-C14:0', 'Citrulline-C14:0', 'Citrulline-C18:2', 'Citrulline-C16:0', 'Citrulline-C14:1',\n",
      "'Citrulline-C18:1', 'Citrulline-C16:1'),\n",
      "Plants = c('Tyrosine-C18:1', 'Tyrosine-C16:0', 'Tyrosine-C18:2', 'Tyrosine-C20:4', 'Tyrosine-C14:1', 'Tyrosine-C14:0', 'Tyrosine-C16:1', 'Tyrosine-C18:3', 'Arginine-C18:1', 'Arginine-C18:2', 'Arginine-C18:3', 'Arginine-C16:0', 'Arginine-C16:1', 'Arginine-C20:4', 'Leucine-C18:1', 'Leucine-C16:0', 'Leucine-C18:2', 'Leucine-C18:3', 'Leucine-C16:1', 'Leucine-C18:0', 'Leucine-C15:0', 'Leucine-C14:1', 'Leucine-C14:0', 'Leucine-C20:4', '2-phenethylamine-C18:1', '2-phenethylamine-C16:0', '2-phenethylamine-C18:0', '2-phenethylamine-C16:1', '2-phenethylamine-C18:2', '2-phenethylamine-C20:0',\n",
      "'Valine-C16:0', 'Valine-C18:1', 'Valine-C18:2', 'Valine-C18:3', 'Amylamine-C18:2', 'Amylamine-C18:0', 'Amylamine-C16:0', 'Amylamine-C20:0', 'Amylamine-C18:1', 'Amylamine-C16:1', 'Tyramine-C18:2', 'Tyramine-C18:1', 'Tyramine-C16:1', 'Tyramine-C16:0', 'Tyramine-C18:4', 'Tyramine-C18:0', 'Taurine-C14:1', 'Taurine-C18:1', 'Taurine-C16:0', 'Taurine-C16:1', 'Taurine-C20:4', 'Taurine-C18:2', 'Taurine-C18:3', 'GABA-C18:3', 'GABA-C18:2', 'GABA-C18:1', 'GABA-C18:0', 'Serine-C18:2', 'Serine-C16:0', 'Tryptophan-C18:1',\n",
      "'Tryptophan-C16:0', 'Tryptophan-C18:2', 'Tryptophan-C18:3', 'Tryptophan-C14:4', 'Phenylalanine-C16:0', 'Phenylalanine-C18:1', 'Phenylalanine-C16:1', 'Phenylalanine-C18:2', 'Phenylalanine-C18:3', 'Phenylalanine-C18:0', 'Phenylalanine-C14:1', 'Phenylalanine-C20:4', 'Tryptamine-C21:0', 'Tryptamine-C18:1', 'Putrescine-C16:0', 'Putrescine-C18:1', 'Putrescine-C18:2', 'Cadaverine-C16:0', 'Asparagine-C16:0', 'Asparagine-C18:2', 'Asparagine-C18:1', 'Asparagine-C18:3', 'Histidine-C16:0', 'Histidine-C18:2', 'Histidine-C18:1', 'Histidine-C20:4', 'Histidine-C14:0', 'Glutamine-C16:0', 'Glutamine-C18:2', 'Glutamine-C18:1',\n",
      "'Serotonin-C20:0', 'Serotonin-C18:0', 'Serotonin-C20:1', 'Serotonin-C18:2', 'Serotonin-C18:1', 'Serotonin-C16:0', 'Serotonin-C21:0', 'Glycine-C18:1', 'Glycine-C16:1', 'Lysine-C18:2', 'Lysine-C16:1', 'Lysine-C18:1', 'Lysine-C14:1', 'Lysine-C14:0', 'Lysine-C16:0', 'Lysine-C18:3', 'Lysine-C20:4', '3-methoxytyramine-C20:0', 'Methionine-C18:3', 'Methionine-C16:1', 'Methionine-C18:2', 'Methionine-C16:0', 'Methionine-C20:4', 'Methionine-C14:1', 'Methionine-C18:1', 'Methionine-C14:0', 'Citrulline-C14:0', 'Citrulline-C18:2', 'Citrulline-C16:0', 'Citrulline-C14:1',\n",
      "'Citrulline-C18:1', 'Citrulline-C16:1')\n"
     ]
    }
   ],
   "source": [
    "def format_list(name, data_list, values_per_line=30):\n",
    "    formatted_list = \"\"\n",
    "    for i in range(0, len(data_list), values_per_line):\n",
    "        chunk = data_list[i:i+values_per_line]\n",
    "        formatted_chunk = \", \".join(f\"'{item}'\" for item in chunk)\n",
    "        formatted_list += formatted_chunk + \",\\n\" if i + values_per_line < len(data_list) else formatted_chunk\n",
    "    return f\"{name} = c({formatted_list})\"\n",
    "\n",
    "# Create the output strings for each list with line breaks every 30 values\n",
    "humans_output = format_list('Humans', humans_long_list)\n",
    "rodents_output = format_list('Rodents', rodents_long_list)\n",
    "microbes_output = format_list('Microbes', microbes_long_list)\n",
    "foods_output = format_list('Foods', foods_long_list)\n",
    "plants_output = format_list('Plants', plants_long_list)\n",
    "\n",
    "# Combine all outputs into the final format\n",
    "formatted_output = f\"{humans_output},\\n{rodents_output},\\n{microbes_output},\\n{foods_output},\\n{plants_output}\"\n",
    "\n",
    "# Print the formatted outputs\n",
    "print(formatted_output)"
   ]
  },
  {
   "cell_type": "code",
   "execution_count": null,
   "metadata": {},
   "outputs": [],
   "source": [
    "#copy everything that was printed above and paste in R to create the list."
   ]
  },
  {
   "cell_type": "markdown",
   "metadata": {},
   "source": [
    "# Very long"
   ]
  },
  {
   "cell_type": "code",
   "execution_count": 10,
   "metadata": {},
   "outputs": [
    {
     "name": "stdout",
     "output_type": "stream",
     "text": [
      "Humans = c('Leucine-C22:1', 'Dopamine-C24:0', 'Dopamine-C25:0', 'Dopamine-C26:0', 'Tyramine-C24:0', 'Tyramine-C22:4', 'Phenylalanine-C22:4', 'Tryptamine-C24:0', 'Tryptamine-C22:0', 'Serotonin-C24:0', 'Serotonin-C23:0', 'Serotonin-C22:0', '3-methoxytyramine-C22:0'),\n",
      "Rodents = c('Glutamic acid-C22:4', 'Serine-C24:1', 'Phenylalanine-C22:4'),\n",
      "Microbes = c('Leucine-C28:0', '2-phenethylamine-C22:0', 'Amylamine-C22:0', 'Dopamine-C27:0', 'Dopamine-C29:0', 'Dopamine-C24:0', 'Dopamine-C30:0', 'Dopamine-C26:0', 'Dopamine-C25:0', 'Dopamine-C28:1', 'Dopamine-C28:0', 'Tyramine-C23:0', 'Tyramine-C30:1', 'Tyramine-C24:0', 'Tyramine-C28:2', 'Tyramine-C29:0', 'Tyramine-C27:1', 'Tyramine-C30:0', 'Tyramine-C30:2', 'Tyramine-C22:0', 'Tyramine-C28:0', 'Tyramine-C25:0', 'Tyramine-C26:0', 'Tyramine-C28:1', 'Tyramine-C27:0', 'GABA-C22:0', 'Tryptophan-C26:0', 'Tryptophan-C24:0', 'Tryptamine-C22:0', 'Tryptamine-C23:0',\n",
      "'Tryptamine-C24:0', 'Serotonin-C22:1', 'Serotonin-C24:0', 'Serotonin-C25:0', 'Serotonin-C22:0', 'Serotonin-C24:1', 'Serotonin-C26:0', 'Serotonin-C23:0', '3-methoxytyramine-C22:0', '3-methoxytyramine-C24:0'),\n",
      "Foods = c('Leucine-C28:0', '2-phenethylamine-C22:0', 'Dopamine-C29:1', 'Dopamine-C28:0', 'Dopamine-C29:0', 'Dopamine-C24:0', 'Dopamine-C28:1', 'Dopamine-C26:0', 'Dopamine-C27:0', 'Dopamine-C30:0', 'Dopamine-C25:0', 'Tyramine-C30:1', 'Tyramine-C30:2', 'Tyramine-C28:2', 'Tyramine-C25:0', 'Tyramine-C24:0', 'Tyramine-C27:0', 'Tyramine-C29:0', 'Tyramine-C27:1', 'Tyramine-C30:0', 'Tyramine-C23:0', 'Tyramine-C26:0', 'Tyramine-C22:0', 'Tyramine-C28:1', 'Tyramine-C29:1', 'GABA-C22:0', 'Tryptophan-C24:0', 'Tryptophan-C26:0', 'Tryptamine-C23:0', 'Tryptamine-C26:0',\n",
      "'Tryptamine-C24:0', 'Tryptamine-C22:0', 'Tryptamine-C25:0', 'Serotonin-C28:0', 'Serotonin-C23:0', 'Serotonin-C22:1', 'Serotonin-C22:0', 'Serotonin-C26:1', 'Serotonin-C26:0', 'Serotonin-C24:0', 'Serotonin-C28:1', 'Serotonin-C24:1', 'Serotonin-C25:0', '3-methoxytyramine-C22:0', '3-methoxytyramine-C24:0'),\n",
      "Plants = c('Leucine-C28:0', '2-phenethylamine-C22:0', 'Dopamine-C29:1', 'Dopamine-C28:0', 'Dopamine-C29:0', 'Dopamine-C24:0', 'Dopamine-C28:1', 'Dopamine-C26:0', 'Dopamine-C27:0', 'Dopamine-C30:0', 'Dopamine-C25:0', 'Tyramine-C30:1', 'Tyramine-C30:2', 'Tyramine-C28:2', 'Tyramine-C25:0', 'Tyramine-C24:0', 'Tyramine-C27:0', 'Tyramine-C29:0', 'Tyramine-C27:1', 'Tyramine-C30:0', 'Tyramine-C23:0', 'Tyramine-C26:0', 'Tyramine-C22:0', 'Tyramine-C28:1', 'Tyramine-C29:1', 'GABA-C22:0', 'Tryptophan-C24:0', 'Tryptophan-C26:0', 'Tryptamine-C23:0', 'Tryptamine-C26:0',\n",
      "'Tryptamine-C24:0', 'Tryptamine-C22:0', 'Tryptamine-C25:0', 'Serotonin-C28:0', 'Serotonin-C23:0', 'Serotonin-C22:1', 'Serotonin-C22:0', 'Serotonin-C26:1', 'Serotonin-C26:0', 'Serotonin-C24:0', 'Serotonin-C28:1', 'Serotonin-C24:1', 'Serotonin-C25:0', '3-methoxytyramine-C22:0', '3-methoxytyramine-C24:0')\n"
     ]
    }
   ],
   "source": [
    "def format_list(name, data_list, values_per_line=30):\n",
    "    formatted_list = \"\"\n",
    "    for i in range(0, len(data_list), values_per_line):\n",
    "        chunk = data_list[i:i+values_per_line]\n",
    "        formatted_chunk = \", \".join(f\"'{item}'\" for item in chunk)\n",
    "        formatted_list += formatted_chunk + \",\\n\" if i + values_per_line < len(data_list) else formatted_chunk\n",
    "    return f\"{name} = c({formatted_list})\"\n",
    "\n",
    "# Create the output strings for each list with line breaks every 30 values\n",
    "humans_output = format_list('Humans', humans_verylong_list)\n",
    "rodents_output = format_list('Rodents', rodents_verylong_list)\n",
    "microbes_output = format_list('Microbes', microbes_verylong_list)\n",
    "foods_output = format_list('Foods', foods_verylong_list)\n",
    "plants_output = format_list('Plants', plants_verylong_list)\n",
    "\n",
    "# Combine all outputs into the final format\n",
    "formatted_output = f\"{humans_output},\\n{rodents_output},\\n{microbes_output},\\n{foods_output},\\n{plants_output}\"\n",
    "\n",
    "# Print the formatted outputs\n",
    "print(formatted_output)"
   ]
  },
  {
   "cell_type": "code",
   "execution_count": null,
   "metadata": {},
   "outputs": [],
   "source": [
    "#copy everything that was printed above and paste in R to create the list."
   ]
  },
  {
   "cell_type": "code",
   "execution_count": null,
   "metadata": {},
   "outputs": [],
   "source": []
  }
 ],
 "metadata": {
  "kernelspec": {
   "display_name": "Python 3",
   "language": "python",
   "name": "python3"
  },
  "language_info": {
   "codemirror_mode": {
    "name": "ipython",
    "version": 3
   },
   "file_extension": ".py",
   "mimetype": "text/x-python",
   "name": "python",
   "nbconvert_exporter": "python",
   "pygments_lexer": "ipython3",
   "version": "3.7.6"
  }
 },
 "nbformat": 4,
 "nbformat_minor": 4
}
