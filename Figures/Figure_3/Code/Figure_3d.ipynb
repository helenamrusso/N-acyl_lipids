{
 "cells": [
  {
   "cell_type": "code",
   "execution_count": null,
   "metadata": {},
   "outputs": [],
   "source": [
    "import qiime2\n",
    "import os\n",
    "import pandas as pd\n",
    "import numpy as np"
   ]
  },
  {
   "cell_type": "code",
   "execution_count": null,
   "metadata": {},
   "outputs": [],
   "source": [
    "%%bash\n",
    "\n",
    "source activate qiime2-2020.2\n",
    "\n",
    "# convert metabolites feature table to .biom \n",
    "\n",
    "biom convert -i metabolomics_feature_table_225samples_RA.txt \\\n",
    "-o metabolomics_feature_table_225samples_RA.biom --to-hdf5"
   ]
  },
  {
   "cell_type": "code",
   "execution_count": null,
   "metadata": {},
   "outputs": [],
   "source": [
    "%%bash\n",
    "\n",
    "source activate qiime2-2020.2\n",
    "\n",
    "# convert metabolites feature table to a FeatureTable artifact format --> .qza file\n",
    "\n",
    "qiime tools import \\\n",
    "--input-path metabolomics_feature_table_225samples_RA.biom \\\n",
    "--output-path metabolomics_feature_table_225samples_RA.qza \\\n",
    "--type FeatureTable[Frequency]"
   ]
  },
  {
   "cell_type": "code",
   "execution_count": null,
   "metadata": {},
   "outputs": [],
   "source": [
    "%%bash\n",
    "\n",
    "source activate qiime2-2019.10\n",
    "\n",
    "# convert microbes feature table to .biom \n",
    "\n",
    "biom convert -i microbes_feature_table_225samples.txt \\\n",
    "-o microbes_feature_table_225samples.biom --to-hdf5"
   ]
  },
  {
   "cell_type": "code",
   "execution_count": null,
   "metadata": {},
   "outputs": [],
   "source": [
    "%%bash\n",
    "\n",
    "source activate qiime2-2020.2\n",
    "\n",
    "# convert microbes feature table to a FeatureTable artifact format --> .qza file\n",
    "\n",
    "qiime tools import \\\n",
    "--input-path microbes_feature_table_225samples.biom \\\n",
    "--output-path microbes_feature_table_225samples.qza \\\n",
    "--type FeatureTable[Frequency]"
   ]
  },
  {
   "cell_type": "code",
   "execution_count": null,
   "metadata": {},
   "outputs": [],
   "source": [
    "%%bash\n",
    "\n",
    "source activate qiime2-2020.2\n",
    "# Run mmvec\n",
    "\n",
    "qiime mmvec paired-omics \\\n",
    "--i-microbes microbes_feature_table_225samples_RA.qza \\\n",
    "--i-metabolites metabolomics_feature_table_225samples.qza \\\n",
    "--p-batch-size 50 \\\n",
    "--p-num-testing-examples 5 \\\n",
    "--p-epochs 50 \\\n",
    "--p-latent-dim 3 \\\n",
    "--p-learning-rate 1e-04 \\\n",
    "--output-dir HNRC_test6/model_summary\n"
   ]
  },
  {
   "cell_type": "code",
   "execution_count": null,
   "metadata": {},
   "outputs": [],
   "source": [
    "%%bash\n",
    "\n",
    "source activate qiime2-2020.2\n",
    "\n",
    "qiime emperor biplot \\\n",
    "--i-biplot HNRC_test6/model_summary/conditional_biplot.qza \\\n",
    "--m-sample-metadata-file metabolites_HIV_metadata.txt \\\n",
    "--m-feature-metadata-file taxonomy.tsv \\\n",
    "--p-number-of-features 30 \\\n",
    "--o-visualization HNRC_test6/model_summary/biplot_viz_30_HIV_taxonomy.qzv"
   ]
  },
  {
   "cell_type": "code",
   "execution_count": null,
   "metadata": {},
   "outputs": [],
   "source": [
    "%%bash\n",
    "\n",
    "source activate qiime2-2023.5\n",
    "\n",
    "qiime tools export \\\n",
    "--input-path HNRC_test6/model_summary/conditional_biplot.qza \\\n",
    "--output-path HNRC_test6/model_summary/conditional_biplot.qza_exported"
   ]
  },
  {
   "cell_type": "code",
   "execution_count": null,
   "metadata": {},
   "outputs": [],
   "source": [
    "%%bash\n",
    "\n",
    "source activate qiime2-2023.5\n",
    "\n",
    "qiime tools export \\\n",
    "--input-path HNRC_test6/model_summary/conditionals.qza \\\n",
    "--output-path HNRC_test6/model_summary/conditionals.qza_exported"
   ]
  },
  {
   "cell_type": "code",
   "execution_count": null,
   "metadata": {},
   "outputs": [],
   "source": []
  }
 ],
 "metadata": {
  "kernelspec": {
   "display_name": "Python 3",
   "language": "python",
   "name": "python3"
  },
  "language_info": {
   "codemirror_mode": {
    "name": "ipython",
    "version": 3
   },
   "file_extension": ".py",
   "mimetype": "text/x-python",
   "name": "python",
   "nbconvert_exporter": "python",
   "pygments_lexer": "ipython3",
   "version": "3.7.6"
  }
 },
 "nbformat": 4,
 "nbformat_minor": 4
}
